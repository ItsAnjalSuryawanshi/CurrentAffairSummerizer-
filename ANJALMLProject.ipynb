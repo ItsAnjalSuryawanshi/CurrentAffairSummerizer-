{
  "nbformat": 4,
  "nbformat_minor": 0,
  "metadata": {
    "colab": {
      "provenance": [],
      "authorship_tag": "ABX9TyM3PP9QkMVvtFo5QrwuYzXA",
      "include_colab_link": true
    },
    "kernelspec": {
      "name": "python3",
      "display_name": "Python 3"
    },
    "language_info": {
      "name": "python"
    }
  },
  "cells": [
    {
      "cell_type": "markdown",
      "metadata": {
        "id": "view-in-github",
        "colab_type": "text"
      },
      "source": [
        "<a href=\"https://colab.research.google.com/github/ItsAnjalSuryawanshi/CurrentAffairSummerizer-/blob/main/ANJALMLProject.ipynb\" target=\"_parent\"><img src=\"https://colab.research.google.com/assets/colab-badge.svg\" alt=\"Open In Colab\"/></a>"
      ]
    },
    {
      "cell_type": "markdown",
      "source": [
        "**METHOD1**"
      ],
      "metadata": {
        "id": "P14b2QDNmRsZ"
      }
    },
    {
      "cell_type": "code",
      "execution_count": null,
      "metadata": {
        "colab": {
          "base_uri": "https://localhost:8080/"
        },
        "id": "4vHeXqegRk2M",
        "outputId": "db01cd80-0e66-4f8a-ac02-8075c5d952bf"
      },
      "outputs": [
        {
          "output_type": "stream",
          "name": "stdout",
          "text": [
            "Requirement already satisfied: newspaper3k in /usr/local/lib/python3.11/dist-packages (0.2.8)\n",
            "Requirement already satisfied: nltk in /usr/local/lib/python3.11/dist-packages (3.9.1)\n",
            "Requirement already satisfied: beautifulsoup4>=4.4.1 in /usr/local/lib/python3.11/dist-packages (from newspaper3k) (4.13.4)\n",
            "Requirement already satisfied: Pillow>=3.3.0 in /usr/local/lib/python3.11/dist-packages (from newspaper3k) (11.1.0)\n",
            "Requirement already satisfied: PyYAML>=3.11 in /usr/local/lib/python3.11/dist-packages (from newspaper3k) (6.0.2)\n",
            "Requirement already satisfied: cssselect>=0.9.2 in /usr/local/lib/python3.11/dist-packages (from newspaper3k) (1.3.0)\n",
            "Requirement already satisfied: lxml>=3.6.0 in /usr/local/lib/python3.11/dist-packages (from newspaper3k) (5.3.2)\n",
            "Requirement already satisfied: requests>=2.10.0 in /usr/local/lib/python3.11/dist-packages (from newspaper3k) (2.32.3)\n",
            "Requirement already satisfied: feedparser>=5.2.1 in /usr/local/lib/python3.11/dist-packages (from newspaper3k) (6.0.11)\n",
            "Requirement already satisfied: tldextract>=2.0.1 in /usr/local/lib/python3.11/dist-packages (from newspaper3k) (5.2.0)\n",
            "Requirement already satisfied: feedfinder2>=0.0.4 in /usr/local/lib/python3.11/dist-packages (from newspaper3k) (0.0.4)\n",
            "Requirement already satisfied: jieba3k>=0.35.1 in /usr/local/lib/python3.11/dist-packages (from newspaper3k) (0.35.1)\n",
            "Requirement already satisfied: python-dateutil>=2.5.3 in /usr/local/lib/python3.11/dist-packages (from newspaper3k) (2.8.2)\n",
            "Requirement already satisfied: tinysegmenter==0.3 in /usr/local/lib/python3.11/dist-packages (from newspaper3k) (0.3)\n",
            "Requirement already satisfied: click in /usr/local/lib/python3.11/dist-packages (from nltk) (8.1.8)\n",
            "Requirement already satisfied: joblib in /usr/local/lib/python3.11/dist-packages (from nltk) (1.4.2)\n",
            "Requirement already satisfied: regex>=2021.8.3 in /usr/local/lib/python3.11/dist-packages (from nltk) (2024.11.6)\n",
            "Requirement already satisfied: tqdm in /usr/local/lib/python3.11/dist-packages (from nltk) (4.67.1)\n",
            "Requirement already satisfied: soupsieve>1.2 in /usr/local/lib/python3.11/dist-packages (from beautifulsoup4>=4.4.1->newspaper3k) (2.6)\n",
            "Requirement already satisfied: typing-extensions>=4.0.0 in /usr/local/lib/python3.11/dist-packages (from beautifulsoup4>=4.4.1->newspaper3k) (4.13.2)\n",
            "Requirement already satisfied: six in /usr/local/lib/python3.11/dist-packages (from feedfinder2>=0.0.4->newspaper3k) (1.17.0)\n",
            "Requirement already satisfied: sgmllib3k in /usr/local/lib/python3.11/dist-packages (from feedparser>=5.2.1->newspaper3k) (1.0.0)\n",
            "Requirement already satisfied: charset-normalizer<4,>=2 in /usr/local/lib/python3.11/dist-packages (from requests>=2.10.0->newspaper3k) (3.4.1)\n",
            "Requirement already satisfied: idna<4,>=2.5 in /usr/local/lib/python3.11/dist-packages (from requests>=2.10.0->newspaper3k) (3.10)\n",
            "Requirement already satisfied: urllib3<3,>=1.21.1 in /usr/local/lib/python3.11/dist-packages (from requests>=2.10.0->newspaper3k) (2.3.0)\n",
            "Requirement already satisfied: certifi>=2017.4.17 in /usr/local/lib/python3.11/dist-packages (from requests>=2.10.0->newspaper3k) (2025.1.31)\n",
            "Requirement already satisfied: requests-file>=1.4 in /usr/local/lib/python3.11/dist-packages (from tldextract>=2.0.1->newspaper3k) (2.1.0)\n",
            "Requirement already satisfied: filelock>=3.0.8 in /usr/local/lib/python3.11/dist-packages (from tldextract>=2.0.1->newspaper3k) (3.18.0)\n"
          ]
        },
        {
          "output_type": "stream",
          "name": "stderr",
          "text": [
            "[nltk_data] Downloading package punkt_tab to /root/nltk_data...\n",
            "[nltk_data]   Package punkt_tab is already up-to-date!\n"
          ]
        },
        {
          "output_type": "stream",
          "name": "stdout",
          "text": [
            "Model Score: 1.0\n",
            "Confusion Matrix:\n",
            " [[11]]\n",
            "\n",
            "--- Generated Summary ---\n",
            "\n",
            "International students make up more than a quarter of Harvard’s enrollment. Ma said he learned about it when his school called with the news. Carlos Barria/Reuters/File\n",
            "\n",
            "Will the US see a drop in international students? “I’ve built a life here,” he told CNN. “I’ve been uprooted once, and that was difficult enough. “The US isn’t the shining beacon on the hill here anymore,” he told CNN. “This could become just not a trickle,” Brustein warned.\n"
          ]
        },
        {
          "output_type": "stream",
          "name": "stderr",
          "text": [
            "/usr/local/lib/python3.11/dist-packages/sklearn/metrics/_classification.py:407: UserWarning: A single label was found in 'y_true' and 'y_pred'. For the confusion matrix to have the correct shape, use the 'labels' parameter to pass all known labels.\n",
            "  warnings.warn(\n"
          ]
        }
      ],
      "source": [
        "# STEP 1: Install Required Libraries\n",
        "!pip install newspaper3k nltk\n",
        "!pip install 'lxml[html_clean]'\n",
        "import nltk\n",
        "nltk.download('punkt_tab')\n",
        "\n",
        "from newspaper import Article\n",
        "from nltk.tokenize import sent_tokenize\n",
        "import numpy as np\n",
        "from sklearn.feature_extraction.text import TfidfVectorizer\n",
        "from sklearn.linear_model import LogisticRegression\n",
        "from sklearn.model_selection import train_test_split\n",
        "from sklearn.metrics import confusion_matrix\n",
        "\n",
        "# STEP 2: Function to Scrape Article Text\n",
        "def extract_article(url):\n",
        "    article = Article(url)\n",
        "    article.download()\n",
        "    article.parse()\n",
        "    return article.text\n",
        "\n",
        "# Example URL (Replace with any latest news article)\n",
        "url = \"https://edition.cnn.com/2025/04/18/us/international-students-universities-funding-trump/index.html\"\n",
        "\n",
        "text = extract_article(url)\n",
        "sentences = sent_tokenize(text)\n",
        "\n",
        "# STEP 3: Simulate Labels for Training (for demo purposes)\n",
        "# Assume first 2 sentences are summary (normally you'd use real data)\n",
        "labels = [1 if i < 2 else 0 for i in range(len(sentences))]\n",
        "\n",
        "# STEP 4: Feature Extraction\n",
        "def extract_features(sentences):\n",
        "    tfidf = TfidfVectorizer()\n",
        "    tfidf_matrix = tfidf.fit_transform(sentences).toarray()\n",
        "\n",
        "    features = []\n",
        "    for i, sent in enumerate(sentences):\n",
        "        sent_len = len(sent)\n",
        "        position = i / len(sentences)\n",
        "        tfidf_score = np.mean(tfidf_matrix[i])\n",
        "        features.append([sent_len, position, tfidf_score])\n",
        "    return np.array(features)\n",
        "\n",
        "X = extract_features(sentences)\n",
        "y = np.array(labels)\n",
        "\n",
        "# STEP 5: Train a Regression Model\n",
        "X_train, X_test, y_train, y_test = train_test_split(X, y, test_size=0.2)\n",
        "\n",
        "model = LogisticRegression()\n",
        "model.fit(X_train, y_train)\n",
        "\n",
        "\n",
        "\n",
        "# STEP 6: Evaluate\n",
        "y_pred = model.predict(X_test)\n",
        "print(\"Model Score:\", model.score(X_test, y_test))\n",
        "print(\"Confusion Matrix:\\n\", confusion_matrix(y_test, y_pred))\n",
        "\n",
        "# STEP 7: Predict Summary\n",
        "probs = model.predict_proba(X)[:, 1]\n",
        "\n",
        "# Select top N sentences (e.g., 7) based on probability scores\n",
        "top_n = 7  # You can increase or decrease this number for longer/shorter summary\n",
        "top_indices = probs.argsort()[-top_n:][::-1]\n",
        "\n",
        "# Sort selected sentences by original order for better readability\n",
        "top_indices = sorted(top_indices)\n",
        "\n",
        "# Combine into paragraph-style summary\n",
        "summary = ' '.join([sentences[idx] for idx in top_indices])\n",
        "\n",
        "print(\"\\n--- Generated Summary ---\\n\")\n",
        "print(summary)\n",
        "\n",
        "#probs = model.predict_proba(X)[:, 1]\n",
        "#top_indices = probs.argsort()[-10:][::-1]  # Top 3 sentences\n",
        "\n",
        "#print(\"\\n--- Generated Summary ---\")\n",
        "#for idx in top_indices:\n",
        " #   print(\"-\", sentences[idx])"
      ]
    },
    {
      "cell_type": "code",
      "source": [
        "# prompt: show this news article content https://edition.cnn.com/2025/04/18/us/international-students-universities-funding-trump/index.html no OI dont want to see the summeryb i want gto see the content\n",
        "\n",
        "import nltk\n",
        "from newspaper import Article\n",
        "from nltk.tokenize import sent_tokenize\n",
        "\n",
        "!pip install 'lxml[html_clean]' # This command installs the necessary lxml_html_clean module\n",
        "# STEP 1: Install Required Libraries\n",
        "!pip install newspaper3k nltk\n",
        "\n",
        "nltk.download('punkt_tab')\n",
        "\n",
        "\n",
        "# STEP 2: Function to Scrape Article Text\n",
        "def extract_article(url):\n",
        "    article = Article(url)\n",
        "    article.download()\n",
        "    article.parse()\n",
        "    return article.text\n",
        "\n",
        "# Example URL (Replace with any latest news article)\n",
        "url = \"https://edition.cnn.com/2025/04/18/us/international-students-universities-funding-trump/index.html\"\n",
        "\n",
        "text = extract_article(url)\n",
        "\n",
        "text\n"
      ],
      "metadata": {
        "colab": {
          "base_uri": "https://localhost:8080/",
          "height": 732
        },
        "id": "nUkNBgMyUS8r",
        "outputId": "2b5f9a7e-d34e-441a-a497-4d8143b433e9"
      },
      "execution_count": null,
      "outputs": [
        {
          "output_type": "stream",
          "name": "stdout",
          "text": [
            "Requirement already satisfied: lxml[html_clean] in /usr/local/lib/python3.11/dist-packages (5.3.2)\n",
            "Requirement already satisfied: lxml_html_clean in /usr/local/lib/python3.11/dist-packages (from lxml[html_clean]) (0.4.2)\n",
            "Requirement already satisfied: newspaper3k in /usr/local/lib/python3.11/dist-packages (0.2.8)\n",
            "Requirement already satisfied: nltk in /usr/local/lib/python3.11/dist-packages (3.9.1)\n",
            "Requirement already satisfied: beautifulsoup4>=4.4.1 in /usr/local/lib/python3.11/dist-packages (from newspaper3k) (4.13.4)\n",
            "Requirement already satisfied: Pillow>=3.3.0 in /usr/local/lib/python3.11/dist-packages (from newspaper3k) (11.1.0)\n",
            "Requirement already satisfied: PyYAML>=3.11 in /usr/local/lib/python3.11/dist-packages (from newspaper3k) (6.0.2)\n",
            "Requirement already satisfied: cssselect>=0.9.2 in /usr/local/lib/python3.11/dist-packages (from newspaper3k) (1.3.0)\n",
            "Requirement already satisfied: lxml>=3.6.0 in /usr/local/lib/python3.11/dist-packages (from newspaper3k) (5.3.2)\n",
            "Requirement already satisfied: requests>=2.10.0 in /usr/local/lib/python3.11/dist-packages (from newspaper3k) (2.32.3)\n",
            "Requirement already satisfied: feedparser>=5.2.1 in /usr/local/lib/python3.11/dist-packages (from newspaper3k) (6.0.11)\n",
            "Requirement already satisfied: tldextract>=2.0.1 in /usr/local/lib/python3.11/dist-packages (from newspaper3k) (5.2.0)\n",
            "Requirement already satisfied: feedfinder2>=0.0.4 in /usr/local/lib/python3.11/dist-packages (from newspaper3k) (0.0.4)\n",
            "Requirement already satisfied: jieba3k>=0.35.1 in /usr/local/lib/python3.11/dist-packages (from newspaper3k) (0.35.1)\n",
            "Requirement already satisfied: python-dateutil>=2.5.3 in /usr/local/lib/python3.11/dist-packages (from newspaper3k) (2.8.2)\n",
            "Requirement already satisfied: tinysegmenter==0.3 in /usr/local/lib/python3.11/dist-packages (from newspaper3k) (0.3)\n",
            "Requirement already satisfied: click in /usr/local/lib/python3.11/dist-packages (from nltk) (8.1.8)\n",
            "Requirement already satisfied: joblib in /usr/local/lib/python3.11/dist-packages (from nltk) (1.4.2)\n",
            "Requirement already satisfied: regex>=2021.8.3 in /usr/local/lib/python3.11/dist-packages (from nltk) (2024.11.6)\n",
            "Requirement already satisfied: tqdm in /usr/local/lib/python3.11/dist-packages (from nltk) (4.67.1)\n",
            "Requirement already satisfied: soupsieve>1.2 in /usr/local/lib/python3.11/dist-packages (from beautifulsoup4>=4.4.1->newspaper3k) (2.6)\n",
            "Requirement already satisfied: typing-extensions>=4.0.0 in /usr/local/lib/python3.11/dist-packages (from beautifulsoup4>=4.4.1->newspaper3k) (4.13.2)\n",
            "Requirement already satisfied: six in /usr/local/lib/python3.11/dist-packages (from feedfinder2>=0.0.4->newspaper3k) (1.17.0)\n",
            "Requirement already satisfied: sgmllib3k in /usr/local/lib/python3.11/dist-packages (from feedparser>=5.2.1->newspaper3k) (1.0.0)\n",
            "Requirement already satisfied: charset-normalizer<4,>=2 in /usr/local/lib/python3.11/dist-packages (from requests>=2.10.0->newspaper3k) (3.4.1)\n",
            "Requirement already satisfied: idna<4,>=2.5 in /usr/local/lib/python3.11/dist-packages (from requests>=2.10.0->newspaper3k) (3.10)\n",
            "Requirement already satisfied: urllib3<3,>=1.21.1 in /usr/local/lib/python3.11/dist-packages (from requests>=2.10.0->newspaper3k) (2.3.0)\n",
            "Requirement already satisfied: certifi>=2017.4.17 in /usr/local/lib/python3.11/dist-packages (from requests>=2.10.0->newspaper3k) (2025.1.31)\n",
            "Requirement already satisfied: requests-file>=1.4 in /usr/local/lib/python3.11/dist-packages (from tldextract>=2.0.1->newspaper3k) (2.1.0)\n",
            "Requirement already satisfied: filelock>=3.0.8 in /usr/local/lib/python3.11/dist-packages (from tldextract>=2.0.1->newspaper3k) (3.18.0)\n"
          ]
        },
        {
          "output_type": "stream",
          "name": "stderr",
          "text": [
            "[nltk_data] Downloading package punkt_tab to /root/nltk_data...\n",
            "[nltk_data]   Package punkt_tab is already up-to-date!\n"
          ]
        },
        {
          "output_type": "execute_result",
          "data": {
            "text/plain": [
              "\"CNN —\\n\\nIn a matter of days, millions of students will be finalizing one of the biggest decisions of their lives: what college they will attend.\\n\\nThe choice could prove to be even more daunting for international students hoping to study in the United States, as the Trump administration revokes hundreds of student visas and admonishes colleges that don’t adhere to its policy demands, threatening to pull billions of dollars in funding and at least one school’s ability to host foreign students.\\n\\nThe previous academic year, more than 1.1 million international students enrolled at American higher education institutions – a record high, according to a report from the nonprofit Institute of International Education.\\n\\nAnd foreign students, who are more likely to pay full tuition compared to their American counterparts, bring significant funding to colleges.\\n\\nIf they choose to take their dollars elsewhere, it could spell financial trouble for the US colleges that rely on them.\\n\\n“A lot of universities are already under financial strain from a variety of reasons (including) the recent efforts by the Trump administration against certain elite institutions to claw back federal aid to those institutions,” Stephen Yale-Loehr, a retired Cornell University immigration law professor, told CNN. “So a drop in international students will hurt those institutions even more.”\\n\\nWhile it’s too soon to know whether international student enrollment will decline this upcoming year – a clearer picture will emerge beyond May 1, college decision day – “it seems like a lot of students are more skittish about coming to the United States,” Yale-Loehr said.\\n\\nEven before college decision day, one company that handles applications says it has seen a slight dip in international applications, and China, which supplies 25% of foreign students, has issued a warning to its citizens about studying in the US.\\n\\nForeign students are a significant source of revenue for American universities\\n\\nMore than 1,000 international students or recent graduates have had their visas revoked or statuses terminated since Trump took office in January – some high-profile cases accuse students of supporting terror organizations, while others have involved relatively minor offenses such as years-old misdemeanors.\\n\\nA visa revocation would terminate a student’s legal status in the US, forcing them to step away from their studies – even though some students have already paid thousands in tuition dollars.\\n\\nInternational students are more likely to pay full tuition at US colleges, in part because most aren’t eligible for federal financial aid.\\n\\nAlso, many universities focus their own financial aid primarily on domestic students, Yale-Loehr said, and “because of that, international students bring in more dollars per student than the tuition that domestic students pay.”\\n\\nSome universities believe their commitments should lie with in-state and American students since their families pay taxes, said William Brustein, a higher education global strategist. He’s served as the chief international officer at several public universities and in top leadership positions for groups supporting international students.\\n\\n“Now, for international students, (colleges) felt that they didn’t have that same commitment. And to be honest with you, they felt that this could serve as almost a cash cow for many of these universities. If these students were willing, their families were willing to pay two and sometimes three times as much,” he told CNN.\\n\\nMore than three-quarters of international students primarily fund their education themselves, through their family or through current employment, the Institute of International Education found. Less than one-fifth received primary funding from their US college or university.\\n\\nAnd an increase in foreign students at public research universities led to pronounced tuition revenue gains, a research paper published in the American Economic Journal says – much-needed gains, the paper found, which helped offset falling state funding appropriations.\\n\\nAmerican universities are already seeing other types of financial pains: This week, the federal government froze more than $2 billion in multiyear grants and $60 million in multiyear contracts at Harvard after the Ivy League university refused to change its hiring and other practices.\\n\\nAnd on Wednesday, the Department of Homeland Security threatened to strip Harvard of its ability to enroll foreigners if it doesn’t turn over records on “illegal and violent activities” of its current international students. International students make up more than a quarter of Harvard’s enrollment.\\n\\nWhile Harvard and other elite schools could suffer financially from a decline in foreign students, others – like public research universities with endowments that aren’t as deep – could feel it even more keenly, Brustein said.\\n\\nDavid Fichter of Cambridge, Massachusetts, a 1973 graduate of Harvard University, leaves a protest against President Donald Trump's administration and against student visas being revoked, at Harvard University in Cambridge on Thursday. Ken McGagh/Reuters\\n\\nA top driver of international students to the US cautions its citizens\\n\\nOne-quarter of international students in the US hail from China, surpassed only by India, whose nationals account for 29% of international students.\\n\\nBut amid a massive trade war and what it calls the deterioration of “China-U.S. economic and trade relations and the security situation within the United States,” China issued a stark warning to its students hoping to study abroad in the US.\\n\\nThis month, China’s Ministry of Culture and Tourism and its Ministry of Education released statements telling Chinese citizens visiting and studying in the United States to travel with caution.\\n\\nJayson Ma, a 24-year-old Chinese national who has been in the United States since 2016 on a valid student visa, learned his student visa was revoked by the federal government earlier this month.\\n\\nMa said he learned about it when his school called with the news. But details about the reason for the revocation weren’t available; his attorney said he hadn’t received any official documentation ordering him to leave the United States. Ma has no criminal record or convictions; he has a previous DUI charge that was dismissed in court and expunged from his record after completing a court-ordered course, his attorney said.\\n\\nIn response to questions about Ma’s situation, a State Department spokesperson told CNN: “We don’t go into the rationale for what happens with individual visas.”\\n\\n“The geopolitical environment over the last 10 to 15 years, particularly with respect to the US-China relationship, has really dampened the prospects for choosing the US,” Brustein said, with Covid-19 and its aftermath exacerbating the political climate.\\n\\nIn 2020, the US revoked visas for more than 1,000 Chinese students and researchers deemed security risks. When President Joe Biden took office, many of those Trump-era policies were kept in place – making it difficult for Chinese graduate students and researchers to secure a visa.\\n\\nAmerican schools saw a 4% drop in Chinese international students enrolled last academic year, according to the Institute of International Education.\\n\\nPresident Donald Trump holds a chart next to US Commerce Secretary Howard Lutnick as Trump delivers remarks on tariffs in the Rose Garden at the White House in Washington, DC, on April 2. Carlos Barria/Reuters/File\\n\\nWill the US see a drop in international students?\\n\\nWali Khan, a Michigan State University journalism student from Hong Kong and Singapore, came to the United States about four years ago in search of a freer press. He said he fled Singapore after he was interrogated for hours without access to a lawyer after his reporting on accusations of a top university mishandling sexual abuse cases.\\n\\nThe Trump administration’s immigration crackdown hasn’t changed the 24-year-old’s plans – he wants to stay in the US after finishing school. And while it hasn’t stopped him from reporting, he said he’s received worried calls from friends, has considered privatizing his social media accounts and tries to spend more time in public and less in secluded places.\\n\\n“I’ve built a life here,” he told CNN. “I’ve been uprooted once, and that was difficult enough. So it also feels like this crushing weight.”\\n\\nCommon App, a college admission platform serving hundreds of colleges and processing millions of applications, reported the number of first-year international applicants for the approaching school year was down 1% as of March 1 compared to the same date last year. That contrasts with a 5% rise in first-year domestic applicants – marking the first time since 2019 that growth in domestic applications exceeded international growth, the company said.\\n\\nThe recent treatment of foreign students could serve as “accelerants” for an eventual decline in international enrollment, Brustein said, stemming from concerns he’s been increasingly hearing from international families for years: The rising price tag of an American college education combined with increasing reputations of universities outside the US.\\n\\n“The US isn’t the shining beacon on the hill here anymore,” he told CNN. “If you want to get a top-notch education that positions you well for your career, there are other choices now.”\\n\\nSome signs point to even US citizens increasingly looking to Canada for their education: Reuters reported at least three Canadian universities had seen an uptick in interest and applications from American students. One official from the University of British Columbia’s Vancouver campus attributed the spike to the Trump administration’s visa revocations and increased scrutiny of their social media activity.\\n\\n“This could become just not a trickle,” Brustein warned. “It could become, if we continue down the road we are today, maybe more of a flood.”\\n\\nCNN’s Gloria Pazmino contributed to this report.\\n\\nCorrection: A previous version of this story misspelled the first name of Stephen Yale-Loehr.\""
            ],
            "application/vnd.google.colaboratory.intrinsic+json": {
              "type": "string"
            }
          },
          "metadata": {},
          "execution_count": 4
        }
      ]
    },
    {
      "cell_type": "markdown",
      "source": [
        "**METHOD2**"
      ],
      "metadata": {
        "id": "BKbQ5x-EmNch"
      }
    },
    {
      "cell_type": "code",
      "source": [
        "!pip install nltk\n",
        "!pip install newspaper3k\n",
        "!pip install textblob\n",
        "!pip install 'lxml[html_clean]'\n",
        "!pip install sumy\n",
        "!python -m textblob.download_corpora\n",
        "import nltk\n",
        "from newspaper import Article\n",
        "from sumy.parsers.plaintext import PlaintextParser\n",
        "from sumy.summarizers.lsa import LsaSummarizer  # You can also try LexRank or TextRank\n",
        "from sumy.utils import get_stop_words\n",
        "from sumy.nlp.tokenizers import Tokenizer\n",
        "\n",
        "# Download NLTK punkt data (if not already downloaded)\n",
        "nltk.download('punkt')\n",
        "\n",
        "def summarize_article(url):\n",
        "    # Step 1: Get article content using Newspaper3k\n",
        "    article = Article(url)\n",
        "    article.download()\n",
        "    article.parse()\n",
        "\n",
        "    # Step 2: Get article text\n",
        "    text = article.text\n",
        "    print(\"Original Article: \")\n",
        "    print(text)\n",
        "\n",
        "    # Step 3: Summarize using Sumy (LsaSummarizer)\n",
        "    parser = PlaintextParser.from_string(text, Tokenizer(\"english\"))\n",
        "    summarizer = LsaSummarizer()\n",
        "    summarizer.stop_words = get_stop_words(\"english\")\n",
        "\n",
        "    # Get the summary (you can change the number of sentences)\n",
        "    summary = summarizer(parser.document, 3)  # Number of sentences in summary\n",
        "\n",
        "    # Print the summary\n",
        "    print(\"\\nSummary: \")\n",
        "    for sentence in summary:\n",
        "        print(sentence)\n",
        "\n",
        "# Main: Ask user for article URL\n",
        "url = input(\"Enter the URL of the news article: \")\n",
        "summarize_article(url)\n"
      ],
      "metadata": {
        "colab": {
          "base_uri": "https://localhost:8080/"
        },
        "id": "iE5BcfbITaPg",
        "outputId": "598450e6-e8bf-47d8-b246-65639d8250db"
      },
      "execution_count": 15,
      "outputs": [
        {
          "output_type": "stream",
          "name": "stderr",
          "text": [
            "[nltk_data] Downloading package punkt to /root/nltk_data...\n",
            "[nltk_data]   Package punkt is already up-to-date!\n"
          ]
        },
        {
          "output_type": "stream",
          "name": "stdout",
          "text": [
            "Enter the URL of the news article: https://edition.cnn.com/2025/04/21/politics/donald-trump-us-presidents-pope-francis/index.html\n",
            "Original Article: \n",
            "CNN —\n",
            "\n",
            "When the newly elected Pope Francis returned to the front desk of his hotel in Rome to personally settle his bill a day after being introduced to cheering crowds in St. Peter’s Square in 2013, it was a first glimpse into the modesty that would come to define his papacy.\n",
            "\n",
            "But for one real estate developer turned reality television star observing developments from his penthouse in Manhattan, it was a sign of something else.\n",
            "\n",
            "“I don’t like seeing the Pope standing at the checkout counter (front desk) of a hotel in order to pay his bill,” Donald Trump, still years from mounting his first presidential bid, wrote on Twitter. “It’s not Pope-like!”\n",
            "\n",
            "There was little in common between now-President Trump and Pope Francis, who died Monday at 88. The two men sparred from afar on issues of immigration and the environment, adopted divergent approaches to the sumptuous trappings of their respective offices, and lived vastly different kinds of lives.\n",
            "\n",
            "“That’s why I’ll never be Pope!” Trump responded to a commenter on his post in 2013, who observed “the difference between the Pope and you is the Pope doesn’t have to constantly brag how great he is.”\n",
            "\n",
            "Yet for all the obvious differences, there was some overlap in how Francis and Trump arrived at their positions, and how they viewed their roles.\n",
            "\n",
            "Each was elected as an outsider and brought to their office a pledge to represent society’s forgotten: for Trump, the American workers who he said Washington passed over in an era of globalization; and for Francis, the poor and marginalized often left to the side of a fast-changing world.\n",
            "\n",
            "Both also sought dramatic changes to the institutions they ran: the sprawling federal government for Trump, and the billion-person strong Catholic Church for Francis.\n",
            "\n",
            "“He’s a very good man who loved the world. And he especially loved people that were having a hard time. And that’s good with me,” Trump said Monday after ordering flags on federal buildings lowered to half staff.\n",
            "\n",
            "Trump sent his love to American Catholics before quickly turning his remarks toward his strength among Catholic voters.\n",
            "\n",
            "“We love you all, we’re with you all. They were with me through the election, as you know, very strongly,” Trump said at the annual White House Easter Egg Roll. “It’s just an honor to have the support of the Catholics. I feel very badly for them because they love the pope.”\n",
            "\n",
            "Trump’s 2017 visit to the Vatican\n",
            "\n",
            "When they met during Trump’s first term at the Vatican in 2017 — their only face-to-face encounter — Trump and Francis had already been tangling on the issue of immigration after Francis declared anyone who builds a wall to keep out migrants was “not a Christian.” Trump had spent the 2016 presidential campaign vowing to construct a wall along the Southern US border to keep migrants out.\n",
            "\n",
            "Those differences were put aside during Trump’s visit, where he was accompanied by his wife Melania, who wore a traditional black veil. Both leaders appeared determined not to let their dispute spoil the encounter.\n",
            "\n",
            "And like most presidents before him, Trump emerged from his meeting with the pope appearing starstruck.\n",
            "\n",
            "“He is something, he’s really good. We had a fantastic meeting and we had a fantastic tour, it was really beautiful,” Trump said.\n",
            "\n",
            "Pope Francis, right, poses with President Donald Trump, center, first lady Melania Trump and Ivanka Trump at the end of a private audience at the Vatican on May 24, 2017. Evan Vucci/Pool/AFP/Getty Images\n",
            "\n",
            "Trump and the first lady had arrived to the Vatican about a half-hour earlier, his long motorcade and armored black SUV a stark contrast to the blue Ford Focus that Francis himself had arrived in to work that day.\n",
            "\n",
            "The meeting was not entirely devoid of politics. The pope presented Trump a copy of his influential encyclical document on preserving the environment, which was interpreted as an attempt by Francis to encourage Trump to adopt stronger efforts at combatting climate change. (It didn’t appear effective; Trump withdrew from the Paris climate accord a few weeks later).\n",
            "\n",
            "Like many world leaders who watch Trump from afar, Francis found Trump easier to talk to than his harsh language on the campaign trail might have suggested.\n",
            "\n",
            "He lightened the mood when shaking Melania Trump’s hand, asking her in Italian, “Did you give him potica to eat?” — referring to the Slovenian dessert few could imagine the glamorous former model whipping up in the White House kitchen.\n",
            "\n",
            "Francis also handed Trump a medallion etched with the image of an olive tree, which he explained was “a symbol of peace.”\n",
            "\n",
            "“We can use peace,” Trump responded. As they parted ways, Trump told him: “I won’t forget what you said.”\n",
            "\n",
            "Influential meetings with Obama and Biden\n",
            "\n",
            "The three US presidents who met Francis all found themselves moved by the experience in different ways. President Barack Obama took the rare step of traveling to Joint Base Andrews to greet Francis at the start of the pope’s blockbuster visit to the United States in 2015.\n",
            "\n",
            "Later, the pope led a short parade in his open-air popemobile around the South Lawn, which was crowded with thousands who had come to witness a rare papal visit to the White House, some carrying babies for the pope to kiss.\n",
            "\n",
            "The cultural moment couldn’t be denied several months later on Halloween, when the child of an administration official arrived to the annual White House trick-or-treating event dressed as the pontiff, complete with a tiny white car.\n",
            "\n",
            "Pope Francis waves to the crowd from a balcony of the White House, accompanied by President Barack Obama and first lady Michelle Obama, during an official welcoming ceremony on September 23, 2015. Carlos Barria/X90035/REUTERS\n",
            "\n",
            "It was on that visit that Francis met privately with members of then-Vice President Joe Biden’s family in the immediate aftermath of his son Beau Biden’s death from cancer. Counseling the Biden’s inside an airplane hanger at the Philadelphia International Airport, Francis “provided us with more comfort that even he, I think, will understand,” Biden would later recount.\n",
            "\n",
            "After he became president, Biden traveled to Rome amid a raging debate inside the US Catholic Church over whether he and other politicians who support abortion rights should receive communion. Afterward, Biden said Francis called him a “good Catholic” and that he should continue receiving the sacrament.\n",
            "\n",
            "Last year, as he was preparing to depart office under a cloud of disappointment following his exit from the 2024 race and his vice president’s loss to Trump, Biden had planned to visit Rome again to meet Francis. The trip was canceled amid wildfires in Los Angeles, but in his final days as president Biden awarded Francis the nation’s highest civilian honor, the Presidential Medal of Freedom.\n",
            "\n",
            "Discord with the second Trump administration\n",
            "\n",
            "Trump and Francis would never meet again after their 2017 encounter. After Trump was elected to a second term, Francis took harsh aim at his administration’s plans for mass deportations, warning such a step would deprive migrants of their inherent dignity and “will end badly.”\n",
            "\n",
            "It was a remarkable rebuke, issued in a letter to US bishops. It appeared to take aim at Vice President JD Vance for his defense of deportations on theological grounds.\n",
            "\n",
            "“Christian love is not a concentric expansion of interests that little by little extend to other persons and groups,” the pope wrote, responding to Vance’s assertion that people should take care of their family, communities and country before expanding care to others.\n",
            "\n",
            "In some ways, the rupture appeared to reflect a growing rift between traditionalist American Catholics and the Vatican under Francis, which had sought to be more inclusive of same-sex couples, women and other groups.\n",
            "\n",
            "Pope Francis meets with Vice President JD Vance on Easter Sunday at the Vatican, April 20, 2025. Divisione Produzione Fotografica/Vatican Media/Reuters\n",
            "\n",
            "Still, the discord did not appear to seep into Vance’s meeting with Francis on Easter Sunday, just a day before he died. Vance appears to have been the last world leader Francis met before his death. He sat briefly with the pope in a reception room at the Casa Santa Marta, the Vatican guesthouse where he has lived since his election in 2013.\n",
            "\n",
            "Vance, who has called himself a “baby Catholic” after converting to the faith as an adult, was on Vatican grounds on Sunday for less than 20 minutes, and the meeting hadn’t been confirmed ahead of time. During their short session, the pope gifted the vice president a tie, rosaries and three big chocolate Easter eggs for Vance’s three children.\n",
            "\n",
            "“I pray for you every day,” Vance could be heard telling the Pontiff as they sat together at the Vatican.\n",
            "\n",
            "This story has been updated with Trump’s remarks on Monday.\n",
            "\n",
            "Summary: \n",
            "When the newly elected Pope Francis returned to the front desk of his hotel in Rome to personally settle his bill a day after being introduced to cheering crowds in St. Peter’s Square in 2013, it was a first glimpse into the modesty that would come to define his papacy.\n",
            "Each was elected as an outsider and brought to their office a pledge to represent society’s forgotten: for Trump, the American workers who he said Washington passed over in an era of globalization; and for Francis, the poor and marginalized often left to the side of a fast-changing world.\n",
            "He lightened the mood when shaking Melania Trump’s hand, asking her in Italian, “Did you give him potica to eat?” — referring to the Slovenian dessert few could imagine the glamorous former model whipping up in the White House kitchen.\n"
          ]
        }
      ]
    }
  ]
}